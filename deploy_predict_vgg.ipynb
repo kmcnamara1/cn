{
 "cells": [
  {
   "cell_type": "code",
   "execution_count": null,
   "metadata": {},
   "outputs": [
    {
     "name": "stdout",
     "output_type": "stream",
     "text": [
      "Collecting package metadata (current_repodata.json): done\n",
      "Solving environment: failed with initial frozen solve. Retrying with flexible solve.\n",
      "Solving environment: / "
     ]
    }
   ],
   "source": [
    "!conda install -c anaconda python=3.6 --yes\n",
    "!conda install -c anaconda tensorflow=2.1.0 --yes\n",
    "!conda install -c conda-forge opencv --yes\n",
    "!conda install -c conda-forge matplotlib --yes\n",
    "!conda install -c conda-forge pydicom=1.4 --yes\n",
    "!conda install -c conda-forge pathlib --yes\n",
    "!conda install -c conda-forge scikit-learn --yes\n",
    "!conda install -c conda-forge pillow --yes\n",
    "!conda install -c conda-forge pandas --yes\n",
    "!conda install -c conda-forge scikit-image --yes\n",
    "\n",
    "! pip install sagemaker==2.16.1\n",
    "! pip install statistics"
   ]
  },
  {
   "cell_type": "code",
   "execution_count": 1,
   "metadata": {},
   "outputs": [],
   "source": [
    "import boto3\n",
    "import os\n",
    "import pandas as pd\n",
    "import shutil"
   ]
  },
  {
   "cell_type": "code",
   "execution_count": null,
   "metadata": {},
   "outputs": [],
   "source": [
    "# Download patient directory from S3\n",
    "!aws s3 cp s3://tickercardiology-echocv-sagemaker/input-data/full-studies inputs/full-studies --recursive "
   ]
  },
  {
   "cell_type": "code",
   "execution_count": null,
   "metadata": {},
   "outputs": [],
   "source": [
    "# Download all model data from within S3 models directory to LOCAL views directory\n",
    "# !aws s3 cp s3://tickercardiology-echocv-sagemaker/models/view_predictions echocv_models --recursive"
   ]
  },
  {
   "cell_type": "code",
   "execution_count": 6,
   "metadata": {},
   "outputs": [
    {
     "name": "stdout",
     "output_type": "stream",
     "text": [
      "Traceback (most recent call last):\n",
      "  File \"patient_view_prediction/analyse_patient_study.py\", line 4, in <module>\n",
      "    import sagemaker\n",
      "  File \"/home/ec2-user/SageMaker/.persisted_conda/echocv/lib/python2.7/site-packages/sagemaker/__init__.py\", line 18, in <module>\n",
      "    from sagemaker import estimator, parameter, tuner  # noqa: F401\n",
      "  File \"/home/ec2-user/SageMaker/.persisted_conda/echocv/lib/python2.7/site-packages/sagemaker/estimator.py\", line 41, in <module>\n",
      "    from sagemaker.job import _Job\n",
      "  File \"/home/ec2-user/SageMaker/.persisted_conda/echocv/lib/python2.7/site-packages/sagemaker/job.py\", line 20, in <module>\n",
      "    from sagemaker.local import file_input\n",
      "  File \"/home/ec2-user/SageMaker/.persisted_conda/echocv/lib/python2.7/site-packages/sagemaker/local/__init__.py\", line 16, in <module>\n",
      "    from .local_session import (  # noqa: F401\n",
      "  File \"/home/ec2-user/SageMaker/.persisted_conda/echocv/lib/python2.7/site-packages/sagemaker/local/local_session.py\", line 23, in <module>\n",
      "    from sagemaker.local.image import _SageMakerContainer\n",
      "  File \"/home/ec2-user/SageMaker/.persisted_conda/echocv/lib/python2.7/site-packages/sagemaker/local/image.py\", line 37, in <module>\n",
      "    import sagemaker.local.data\n",
      "  File \"/home/ec2-user/SageMaker/.persisted_conda/echocv/lib/python2.7/site-packages/sagemaker/local/data.py\", line 26, in <module>\n",
      "    import sagemaker.amazon.common\n",
      "  File \"/home/ec2-user/SageMaker/.persisted_conda/echocv/lib/python2.7/site-packages/sagemaker/amazon/common.py\", line 24, in <module>\n",
      "    from sagemaker.deserializers import BaseDeserializer\n",
      "  File \"/home/ec2-user/SageMaker/.persisted_conda/echocv/lib/python2.7/site-packages/sagemaker/deserializers.py\", line 33, in <module>\n",
      "    class BaseDeserializer(abc.ABC):\n",
      "AttributeError: 'module' object has no attribute 'ABC'\n"
     ]
    }
   ],
   "source": [
    "# !python echocv/predict_viewclass_v2.py\n",
    "!python patient_view_prediction/analyse_patient_study.py"
   ]
  },
  {
   "cell_type": "code",
   "execution_count": null,
   "metadata": {},
   "outputs": [],
   "source": [
    "!python patient_view_prediction/evaluate_patient_study.py"
   ]
  },
  {
   "cell_type": "code",
   "execution_count": null,
   "metadata": {},
   "outputs": [],
   "source": [
    "# Example upload results to S3, ignore .jpg and .raw files\n",
    "!aws s3 cp outputs/full-studies s3://tickercardiology-echocv-sagemaker/output-data/predict_viewclass/full-studes --recursive --exclude *.jpg --exclude *raw*"
   ]
  }
 ],
 "metadata": {
  "file_extension": ".py",
  "kernelspec": {
   "display_name": "conda_echocv",
   "language": "python",
   "name": "conda_echocv"
  },
  "language_info": {
   "codemirror_mode": {
    "name": "ipython",
    "version": 2
   },
   "file_extension": ".py",
   "mimetype": "text/x-python",
   "name": "python",
   "nbconvert_exporter": "python",
   "pygments_lexer": "ipython2",
   "version": "2.7.15"
  },
  "mimetype": "text/x-python",
  "name": "python",
  "npconvert_exporter": "python",
  "pygments_lexer": "ipython3",
  "version": 3
 },
 "nbformat": 4,
 "nbformat_minor": 4
}
