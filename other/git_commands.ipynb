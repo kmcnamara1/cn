{
 "cells": [
  {
   "cell_type": "code",
   "execution_count": 2,
   "metadata": {},
   "outputs": [
    {
     "name": "stdout",
     "output_type": "stream",
     "text": [
      "^C\n"
     ]
    }
   ],
   "source": [
    "!git add *\n",
    "\n",
    "\n",
    "interpret_results.ipynb\n",
    "keras_model_fn.py\n",
    "run_echo.ipynb\n",
    "study_pred2.py\n",
    "train_vgg.ipynb\n",
    "transfer_learning.ipynb"
   ]
  },
  {
   "cell_type": "code",
   "execution_count": 5,
   "metadata": {},
   "outputs": [],
   "source": [
    "!git add interpret_results.ipynb\n",
    "!git add keras_model_fn.py\n",
    "!git add run_echo.ipynb\n",
    "!git add study_pred2.py\n",
    "!git add train_vgg.ipynb\n",
    "!git add transfer_learning.ipynb"
   ]
  },
  {
   "cell_type": "code",
   "execution_count": null,
   "metadata": {},
   "outputs": [
    {
     "name": "stdout",
     "output_type": "stream",
     "text": [
      "Username for 'https://github.com/kmcnamara1/cn.git': "
     ]
    }
   ],
   "source": [
    "!git push origin"
   ]
  },
  {
   "cell_type": "code",
   "execution_count": null,
   "metadata": {},
   "outputs": [],
   "source": [
    "!git config --global user.name \"John Doe\"\n",
    "!git config --global user.email johndoe@example.com"
   ]
  }
 ],
 "metadata": {
  "kernelspec": {
   "display_name": "conda_echocv",
   "language": "python",
   "name": "conda_echocv"
  },
  "language_info": {
   "codemirror_mode": {
    "name": "ipython",
    "version": 2
   },
   "file_extension": ".py",
   "mimetype": "text/x-python",
   "name": "python",
   "nbconvert_exporter": "python",
   "pygments_lexer": "ipython2",
   "version": "2.7.15"
  }
 },
 "nbformat": 4,
 "nbformat_minor": 4
}
