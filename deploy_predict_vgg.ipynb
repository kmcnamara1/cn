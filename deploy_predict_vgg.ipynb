{
 "cells": [
  {
   "cell_type": "markdown",
   "metadata": {},
   "source": [
    "# Deploy and Predict Model with Patient Data\n",
    "Author: k.mcnamara\n",
    "Date: 12/11/2020\n",
    "\n",
    "This Notebook has cells for deploying a model and predicting echocardiogram views.\n",
    "Calls scripts from /patient_view_prediction.\n",
    "Supplementary functions in /support_funcs"
   ]
  },
  {
   "cell_type": "markdown",
   "metadata": {},
   "source": [
    "## Import Dependences "
   ]
  },
  {
   "cell_type": "code",
   "execution_count": 26,
   "metadata": {},
   "outputs": [],
   "source": [
    "import boto3\n",
    "import os\n",
    "import pandas as pd\n",
    "import shutil"
   ]
  },
  {
   "cell_type": "markdown",
   "metadata": {},
   "source": [
    "# Download patient directory from S3\n",
    "### Store in local directory "
   ]
  },
  {
   "cell_type": "code",
   "execution_count": null,
   "metadata": {},
   "outputs": [],
   "source": [
    "!aws s3 cp s3://tickercardiology-echocv-sagemaker/input-data/full-studies inputs/full-studies --recursive "
   ]
  },
  {
   "cell_type": "markdown",
   "metadata": {},
   "source": [
    "# Analyse patient studies\n",
    "Takes in local directory of patient studies to be analysed.\n",
    "Will deploy and delete endpoint for model.\n",
    "\n",
    "Output: see ./outputs/.../results"
   ]
  },
  {
   "cell_type": "code",
   "execution_count": 30,
   "metadata": {},
   "outputs": [
    {
     "name": "stdout",
     "output_type": "stream",
     "text": [
      "corl1\n",
      "file77 not cine or still\n",
      "file58 not cine or still\n",
      "file57 0 trying [still]\n",
      "file86 0 trying [cine]\n",
      "a2c 0 trying [cine]\n",
      "file19 0 trying [cine]\n",
      "file42 0 trying [cine]\n",
      "file45 0 trying [cine]\n",
      "file99 0 trying [cine]\n",
      "a2c_laocc (2) 0 trying [cine]\n",
      "file70 not cine or still\n",
      "psax_avz (2) 0 trying [cine]\n",
      "file10 0 trying [still]\n",
      "file69 0 trying [cine]\n",
      "file51 not cine or still\n",
      "a4c 0 trying [cine]\n",
      "file30 not cine or still\n",
      "file114 not cine or still\n",
      "file15 0 trying [cine]\n",
      "file9 0 trying [cine]\n",
      "file28 0 trying [cine]\n",
      "psax_pap 0 trying [cine]\n",
      "file40 0 trying [cine]\n",
      "file43 0 trying [cine]\n",
      "file71 0 trying [cine]\n",
      "file47 0 trying [cine]\n",
      "suprasternal 0 trying [cine]\n",
      "file60 not cine or still\n",
      "file72 0 trying [cine]\n",
      "file113 0 trying [cine]\n",
      "file16 0 trying [cine]\n",
      "file68 0 trying [cine]\n",
      "file101 0 trying [cine]\n",
      "file85 0 trying [cine]\n",
      "file106 0 trying [still]\n",
      "file50 0 trying [cine]\n",
      "file8 0 trying [cine]\n",
      "file20 0 trying [cine]\n",
      "file84 0 trying [cine]\n",
      "file118 not cine or still\n",
      "a4c_lvocc_s 0 trying [cine]\n",
      "psax_mv 0 trying [cine]\n",
      "file110 not cine or still\n",
      "plax_plax (3) 0 trying [cine]\n",
      "file92 0 trying [still]\n",
      "file29 0 trying [cine]\n",
      "file67 not cine or still\n",
      "plax_far (3) 0 trying [still]\n",
      "plax_far 0 trying [cine]\n",
      "a3c 0 trying [cine]\n",
      "file103 0 trying [cine]\n",
      "file97 not cine or still\n",
      "file54 0 trying [still]\n",
      "a4c_laocc 0 trying [cine]\n",
      "file73 not cine or still\n",
      "file25 0 trying [cine]\n",
      "file27 not cine or still\n",
      "file78 not cine or still\n",
      "a4c_laocc (2) 0 trying [cine]\n",
      "file105 0 trying [cine]\n",
      "file88 0 trying [cine]\n",
      "plax_plax (2) 0 trying [cine]\n",
      "file115 not cine or still\n",
      "file66 not cine or still\n",
      "file76 not cine or still\n",
      "a3c_laocc 0 trying [cine]\n",
      "rvinf 0 trying [cine]\n",
      "psax_apex 0 trying [cine]\n",
      "file108 0 trying [cine]\n",
      "file62 not cine or still\n",
      "file59 not cine or still\n",
      "file87 0 trying [cine]\n",
      "file38 0 trying [cine]\n",
      "file109 not cine or still\n",
      "file46 0 trying [cine]\n",
      "file26 not cine or still\n",
      "file6 0 trying [still]\n",
      "file14 0 trying [still]\n",
      "a2c_laocc 0 trying [cine]\n",
      "file104 0 trying [cine]\n",
      "file102 0 trying [cine]\n",
      "subcostal 0 trying [cine]\n",
      "file18 0 trying [cine]\n",
      "file56 0 trying [cine]\n",
      "file64 0 trying [cine]\n",
      "file96 0 trying [still]\n",
      "file63 not cine or still\n",
      "plax_far (2) 0 trying [cine]\n",
      "file81 0 trying [cine]\n",
      "file112 0 trying [cine]\n",
      "file117 0 trying [cine]\n",
      "file48 0 trying [cine]\n",
      "file34 0 trying [cine]\n",
      "file39 not cine or still\n",
      "file55 0 trying [still]\n",
      "file5 0 trying [still]\n",
      "file7 0 trying [still]\n",
      "file41 not cine or still\n",
      "file100 0 trying [cine]\n",
      "file13 0 trying [cine]\n",
      "file12 0 trying [still]\n",
      "file116 0 trying [cine]\n",
      "file111 not cine or still\n",
      "file75 not cine or still\n",
      "plax_plax 0 trying [cine]\n",
      "file93 0 trying [still]\n",
      "file95 0 trying [still]\n",
      "file82 0 trying [cine]\n",
      "file17 0 trying [cine]\n",
      "file11 0 trying [still]\n",
      "file61 not cine or still\n",
      "file65 0 trying [cine]\n",
      "file74 not cine or still\n",
      "file80 0 trying [still]\n",
      "file44 0 trying [cine]\n",
      "psax_avz 0 trying [cine]\n",
      "file36 0 trying [cine]\n",
      "Traceback (most recent call last):\n",
      "  File \"patient_view_prediction/analyse_patient_study.py\", line 128, in <module>\n",
      "    main()\n",
      "  File \"patient_view_prediction/analyse_patient_study.py\", line 117, in main\n",
      "    print(\"Time:  \" + str(y - x) + \" seconds for \" +  str(len(predictprobdict.keys()))  + \" DCM frames\")\n",
      "NameError: name 'predictprobdict' is not defined\n",
      "Traceback (most recent call last):\n",
      "  File \"patient_view_prediction/evaluate_patient_study.py\", line 78, in <module>\n",
      "    main()\n",
      "  File \"patient_view_prediction/evaluate_patient_study.py\", line 74, in main\n",
      "    analyse_probabilities(inputDir, outputDir)\n",
      "  File \"patient_view_prediction/evaluate_patient_study.py\", line 36, in analyse_probabilities\n",
      "    infile = open(probabilityFile)\n",
      "FileNotFoundError: [Errno 2] No such file or directory: 'outputs/full-studies/corl1/results/corl1_individual_probabilities_c8.txt'\n"
     ]
    }
   ],
   "source": [
    "!python patient_view_prediction/analyse_patient_study.py\n",
    "!python patient_view_prediction/evaluate_patient_study.py"
   ]
  },
  {
   "cell_type": "markdown",
   "metadata": {},
   "source": [
    "# Upload results to S3\n",
    "Ignore .jpg and .raw files"
   ]
  },
  {
   "cell_type": "code",
   "execution_count": null,
   "metadata": {},
   "outputs": [],
   "source": [
    "!aws s3 cp outputs/full-studies s3://tickercardiology-echocv-sagemaker/output-data/predict_viewclass/full-studes --recursive --exclude *.jpg --exclude *raw*"
   ]
  },
  {
   "cell_type": "markdown",
   "metadata": {},
   "source": [
    "### Conda Environment Dependencies\n",
    "\n",
    "Environment = \"conda_echocv\".\n",
    "If not available, run following:"
   ]
  },
  {
   "cell_type": "code",
   "execution_count": null,
   "metadata": {},
   "outputs": [],
   "source": [
    "!conda install -c anaconda python=3.6 --yes\n",
    "!conda install -c anaconda tensorflow=2.1.0 --yes\n",
    "!conda install -c conda-forge opencv --yes\n",
    "!conda install -c conda-forge matplotlib --yes\n",
    "!conda install -c conda-forge pydicom=1.4 --yes\n",
    "!conda install -c conda-forge pathlib --yes\n",
    "!conda install -c conda-forge scikit-learn --yes\n",
    "!conda install -c conda-forge pillow --yes\n",
    "!conda install -c conda-forge pandas --yes\n",
    "!conda install -c conda-forge scikit-image --yes\n",
    "!conda install -c conda-forge scipy --yes \n",
    "\n",
    "! pip install sagemaker==2.16.1\n",
    "! pip install statistics"
   ]
  }
 ],
 "metadata": {
  "file_extension": ".py",
  "kernelspec": {
   "display_name": "conda_echocv",
   "language": "python",
   "name": "conda_echocv"
  },
  "language_info": {
   "codemirror_mode": {
    "name": "ipython",
    "version": 2
   },
   "file_extension": ".py",
   "mimetype": "text/x-python",
   "name": "python",
   "nbconvert_exporter": "python",
   "pygments_lexer": "ipython2",
   "version": "2.7.15"
  },
  "mimetype": "text/x-python",
  "name": "python",
  "npconvert_exporter": "python",
  "pygments_lexer": "ipython3",
  "version": 3
 },
 "nbformat": 4,
 "nbformat_minor": 4
}
