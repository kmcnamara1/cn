{
 "cells": [
  {
   "cell_type": "code",
   "execution_count": 2,
   "metadata": {},
   "outputs": [
    {
     "name": "stdout",
     "output_type": "stream",
     "text": [
      "^C\n"
     ]
    }
   ],
   "source": [
    "!git add *\n",
    "\n",
    "\n",
    "interpret_results.ipynb\n",
    "keras_model_fn.py\n",
    "run_echo.ipynb\n",
    "study_pred2.py\n",
    "train_vgg.ipynb\n",
    "transfer_learning.ipynb"
   ]
  },
  {
   "cell_type": "code",
   "execution_count": 5,
   "metadata": {},
   "outputs": [
    {
     "name": "stdout",
     "output_type": "stream",
     "text": [
      "On branch aws_format\n",
      "Your branch is up to date with 'origin/aws_format'.\n",
      "\n",
      "Changes to be committed:\n",
      "  (use \"git reset HEAD <file>...\" to unstage)\n",
      "\n",
      "\t\u001b[32mdeleted:    ../Untitled.ipynb\u001b[m\n",
      "\t\u001b[32mdeleted:    ../Untitled1.ipynb\u001b[m\n",
      "\t\u001b[32mdeleted:    ../data_input.py\u001b[m\n",
      "\t\u001b[32mdeleted:    ../input_functions.py\u001b[m\n",
      "\t\u001b[32mdeleted:    ../interpret_results.ipynb\u001b[m\n",
      "\t\u001b[32mdeleted:    ../keras_model_fn.py\u001b[m\n",
      "\t\u001b[32mdeleted:    ../mnist2.py\u001b[m\n",
      "\t\u001b[32mmodified:   ../model_training/keras_model_fn.py\u001b[m\n",
      "\t\u001b[32mmodified:   ../model_training/train_vgg.ipynb\u001b[m\n",
      "\t\u001b[32mmodified:   ../patient_study_evaluation/analysis_study_probability.py\u001b[m\n",
      "\t\u001b[32mmodified:   ../patient_study_evaluation/patient_study_analysis.py\u001b[m\n",
      "\t\u001b[32mdeleted:    ../sagemaker_training_job.py\u001b[m\n",
      "\t\u001b[32mdeleted:    ../study_pred2.py\u001b[m\n",
      "\n",
      "Changes not staged for commit:\n",
      "  (use \"git add/rm <file>...\" to update what will be committed)\n",
      "  (use \"git checkout -- <file>...\" to discard changes in working directory)\n",
      "\n",
      "\t\u001b[31mmodified:   ../echocv/echoanalysis_tools.pyc\u001b[m\n",
      "\t\u001b[31mmodified:   git_commands.ipynb\u001b[m\n",
      "\t\u001b[31mdeleted:    ../run_echo.ipynb\u001b[m\n",
      "\t\u001b[31mdeleted:    ../train_vgg.ipynb\u001b[m\n",
      "\t\u001b[31mdeleted:    ../transfer_learning.ipynb\u001b[m\n",
      "\n",
      "Untracked files:\n",
      "  (use \"git add <file>...\" to include in what will be committed)\n",
      "\n",
      "\t\u001b[31m../echocv/.ipynb_checkpoints/\u001b[m\n",
      "\t\u001b[31m../images/\u001b[m\n",
      "\t\u001b[31m../inputs/\u001b[m\n",
      "\t\u001b[31m../model_training/.ipynb_checkpoints/\u001b[m\n",
      "\t\u001b[31m../models/\u001b[m\n",
      "\t\u001b[31m.ipynb_checkpoints/\u001b[m\n",
      "\t\u001b[31m../outputs/\u001b[m\n",
      "\t\u001b[31m../patient_study_evaluation/.ipynb_checkpoints/\u001b[m\n",
      "\n"
     ]
    }
   ],
   "source": [
    "!git status"
   ]
  },
  {
   "cell_type": "code",
   "execution_count": 4,
   "metadata": {},
   "outputs": [],
   "source": [
    "!git add ../model_training/keras_model_fn.py\n",
    "!git add ../model_training/train_vgg.ipynb\n",
    "!git add ../patient_study_evaluation/analysis_study_probability.py\n",
    "!git add ../patient_study_evaluation/patient_study_analysis.py"
   ]
  },
  {
   "cell_type": "code",
   "execution_count": 7,
   "metadata": {},
   "outputs": [
    {
     "name": "stdout",
     "output_type": "stream",
     "text": [
      "[aws_format 217d882] minor changes ready for commenting\n",
      " 13 files changed, 367 insertions(+), 830 deletions(-)\n",
      " delete mode 100644 Untitled.ipynb\n",
      " delete mode 100644 Untitled1.ipynb\n",
      " delete mode 100644 data_input.py\n",
      " delete mode 100644 input_functions.py\n",
      " delete mode 100644 interpret_results.ipynb\n",
      " delete mode 100644 keras_model_fn.py\n",
      " delete mode 100644 mnist2.py\n",
      " rewrite model_training/train_vgg.ipynb (99%)\n",
      " delete mode 100644 sagemaker_training_job.py\n",
      " delete mode 100644 study_pred2.py\n"
     ]
    }
   ],
   "source": [
    "!git commit -m \"minor changes ready for commenting\""
   ]
  },
  {
   "cell_type": "code",
   "execution_count": 5,
   "metadata": {},
   "outputs": [],
   "source": [
    "!git add interpret_results.ipynb\n",
    "!git add keras_model_fn.py\n",
    "!git add run_echo.ipynb\n",
    "!git add study_pred2.py\n",
    "!git add train_vgg.ipynb\n",
    "!git add transfer_learning.ipynb"
   ]
  },
  {
   "cell_type": "code",
   "execution_count": null,
   "metadata": {},
   "outputs": [],
   "source": [
    "!git push origin aws_format config --global user.name kmcnamara1"
   ]
  },
  {
   "cell_type": "code",
   "execution_count": 6,
   "metadata": {},
   "outputs": [],
   "source": [
    "!git config --global user.name kmcnamara1\n",
    "!git config --global user.email k.mcnamara@uqconnect.edu.au"
   ]
  },
  {
   "cell_type": "code",
   "execution_count": null,
   "metadata": {},
   "outputs": [],
   "source": []
  }
 ],
 "metadata": {
  "kernelspec": {
   "display_name": "conda_echocv",
   "language": "python",
   "name": "conda_echocv"
  },
  "language_info": {
   "codemirror_mode": {
    "name": "ipython",
    "version": 2
   },
   "file_extension": ".py",
   "mimetype": "text/x-python",
   "name": "python",
   "nbconvert_exporter": "python",
   "pygments_lexer": "ipython2",
   "version": "2.7.15"
  }
 },
 "nbformat": 4,
 "nbformat_minor": 4
}
